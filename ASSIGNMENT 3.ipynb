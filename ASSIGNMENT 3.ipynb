{
  "nbformat": 4,
  "nbformat_minor": 0,
  "metadata": {
    "colab": {
      "provenance": [],
      "authorship_tag": "ABX9TyPTQpGFkFNLq/iphfuBLEVs",
      "include_colab_link": true
    },
    "kernelspec": {
      "name": "python3",
      "display_name": "Python 3"
    },
    "language_info": {
      "name": "python"
    }
  },
  "cells": [
    {
      "cell_type": "markdown",
      "metadata": {
        "id": "view-in-github",
        "colab_type": "text"
      },
      "source": [
        "<a href=\"https://colab.research.google.com/github/antguptaa/Tutedude/blob/main/ASSIGNMENT%203.ipynb\" target=\"_parent\"><img src=\"https://colab.research.google.com/assets/colab-badge.svg\" alt=\"Open In Colab\"/></a>"
      ]
    },
    {
      "cell_type": "code",
      "source": [
        "def factorial_iterative(n):\n",
        "    if n < 0:\n",
        "        return \"Factorial is not defined for negative numbers\"\n",
        "    result = 1\n",
        "    for i in range(2, n + 1):\n",
        "        result *= i\n",
        "    return result\n",
        "\n",
        "\n",
        "n = int(input(\"Enter a number: \"))\n",
        "print(f\"Factorial of {num} is: {factorial_iterative(n)}\")\n"
      ],
      "metadata": {
        "colab": {
          "base_uri": "https://localhost:8080/"
        },
        "id": "meQtX07bPNdd",
        "outputId": "d0b3b90b-e032-4210-9538-c118c41405f3"
      },
      "execution_count": 2,
      "outputs": [
        {
          "output_type": "stream",
          "name": "stdout",
          "text": [
            "Enter a number: 5\n",
            "Factorial of 5 is: 120\n"
          ]
        }
      ]
    },
    {
      "cell_type": "code",
      "source": [
        "import math\n",
        "\n",
        "number = float(input(\"Enter a number: \"))\n",
        "\n",
        "# 1. Square Root\n",
        "sqrt_val = math.sqrt(number)\n",
        "print(f\"Square root of {number} is: {sqrt_val}\")\n",
        "\n",
        "# 2. Natural Logarithm (ln)\n",
        "if number > 0:\n",
        "    ln_val = math.log(number)\n",
        "    print(f\"Natural log (ln) of {number} is: {ln_val}\")\n",
        "else:\n",
        "    print(\"Natural log is not defined for zero or negative numbers.\")\n",
        "\n",
        "# 3. Sine (number is in radians)\n",
        "sine_val = math.sin(number)\n",
        "print(f\"Sine of {number} radians is: {sine_val}\")\n"
      ],
      "metadata": {
        "colab": {
          "base_uri": "https://localhost:8080/"
        },
        "id": "oLIKjonWV7ak",
        "outputId": "e548615e-d80d-4e8b-945f-fb1f7ab8178b"
      },
      "execution_count": 6,
      "outputs": [
        {
          "output_type": "stream",
          "name": "stdout",
          "text": [
            "Enter a number: 25\n",
            "Square root of 25.0 is: 5.0\n",
            "Natural log (ln) of 25.0 is: 3.2188758248682006\n",
            "Sine of 25.0 radians is: -0.13235175009777303\n"
          ]
        }
      ]
    }
  ]
}