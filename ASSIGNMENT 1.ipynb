{
  "nbformat": 4,
  "nbformat_minor": 0,
  "metadata": {
    "colab": {
      "provenance": [],
      "authorship_tag": "ABX9TyP9tbmoq0C36j95dv+NAf0B",
      "include_colab_link": true
    },
    "kernelspec": {
      "name": "python3",
      "display_name": "Python 3"
    },
    "language_info": {
      "name": "python"
    }
  },
  "cells": [
    {
      "cell_type": "markdown",
      "metadata": {
        "id": "view-in-github",
        "colab_type": "text"
      },
      "source": [
        "<a href=\"https://colab.research.google.com/github/antguptaa/Tutedude/blob/main/ASSIGNMENT%201.ipynb\" target=\"_parent\"><img src=\"https://colab.research.google.com/assets/colab-badge.svg\" alt=\"Open In Colab\"/></a>"
      ]
    },
    {
      "cell_type": "code",
      "source": [
        "# Task 1: Perform Basic Mathematical Operations\n",
        "\n",
        "a= int(input('Enter the first number: '))\n",
        "b= int(input('Enter the second number: '))\n",
        "print('Addition: ', a+b)\n",
        "print(\"Subtraction: \", a-b)\n",
        "print('Multiplication: ', a*b)\n",
        "print('Division: ', a/b)"
      ],
      "metadata": {
        "colab": {
          "base_uri": "https://localhost:8080/"
        },
        "id": "-xTomlJmy6VY",
        "outputId": "b41a3d68-bb3a-48d6-8f42-9fc0a209622a"
      },
      "execution_count": 11,
      "outputs": [
        {
          "output_type": "stream",
          "name": "stdout",
          "text": [
            "Enter the first number: 5\n",
            "Enter the second number: 10\n",
            "Addition:  15\n",
            "Subtraction:  -5\n",
            "Multiplication:  50\n",
            "Division:  0.5\n"
          ]
        }
      ]
    },
    {
      "cell_type": "code",
      "source": [
        "# Task 2: Create a Personalized Greeting\n",
        "\n",
        "a = str(input('Enter your first name: '))\n",
        "b = str(input('Enter your last name :'))\n",
        "\n",
        "print('Hello,'+a+\" \"+b+'!','Welcome to Python program.')"
      ],
      "metadata": {
        "colab": {
          "base_uri": "https://localhost:8080/"
        },
        "id": "q9sYpKSn7L3P",
        "outputId": "b3dcc383-0422-4990-a204-2116de3a8150"
      },
      "execution_count": 14,
      "outputs": [
        {
          "output_type": "stream",
          "name": "stdout",
          "text": [
            "Enter your first name: John\n",
            "Enter your last name :Doe\n",
            "Hello,John Doe! Welcome to Python program.\n"
          ]
        }
      ]
    },
    {
      "cell_type": "code",
      "source": [],
      "metadata": {
        "id": "l9ZXbkwm80pD"
      },
      "execution_count": null,
      "outputs": []
    }
  ]
}