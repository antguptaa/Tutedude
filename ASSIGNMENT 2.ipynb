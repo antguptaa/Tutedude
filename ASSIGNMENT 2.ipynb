{
  "nbformat": 4,
  "nbformat_minor": 0,
  "metadata": {
    "colab": {
      "provenance": [],
      "authorship_tag": "ABX9TyPColTqpsprgJtsRuMlZgyK",
      "include_colab_link": true
    },
    "kernelspec": {
      "name": "python3",
      "display_name": "Python 3"
    },
    "language_info": {
      "name": "python"
    }
  },
  "cells": [
    {
      "cell_type": "markdown",
      "metadata": {
        "id": "view-in-github",
        "colab_type": "text"
      },
      "source": [
        "<a href=\"https://colab.research.google.com/github/antguptaa/Tutedude/blob/main/ASSIGNMENT%202.ipynb\" target=\"_parent\"><img src=\"https://colab.research.google.com/assets/colab-badge.svg\" alt=\"Open In Colab\"/></a>"
      ]
    },
    {
      "cell_type": "code",
      "execution_count": 6,
      "metadata": {
        "colab": {
          "base_uri": "https://localhost:8080/"
        },
        "id": "6jdwnwNikQtv",
        "outputId": "edcb0899-21b7-43a5-8272-f08de7d70834"
      },
      "outputs": [
        {
          "output_type": "stream",
          "name": "stdout",
          "text": [
            "Enter the number: 12\n",
            "12  is an even number\n"
          ]
        }
      ],
      "source": [
        "#Task 1: Check if a Number is Even or Odd\n",
        "number = int(input(\"Enter the number: \"))\n",
        "\n",
        "if number % 2==0:\n",
        "  print(number,'',\"is an even number\")\n",
        "else:\n",
        "  print(number,\" \",\"is an odd number\")"
      ]
    },
    {
      "cell_type": "code",
      "source": [
        "# Task 2: Sum of Integers from 1 to 50 Using a Loop\n",
        "\n",
        "total = 0\n",
        "\n",
        "for i in range(1,51):\n",
        "  total+=i\n",
        "\n",
        "print(\"The sum of numbers from 1 to 50 is:\",total)\n",
        "\n"
      ],
      "metadata": {
        "colab": {
          "base_uri": "https://localhost:8080/"
        },
        "id": "GdaWL1prr1Uq",
        "outputId": "15ee6bcd-3a81-4a19-e10e-7b1ecdfb5fe0"
      },
      "execution_count": 23,
      "outputs": [
        {
          "output_type": "stream",
          "name": "stdout",
          "text": [
            "The sum of numbers from 1 to 50 is: 1275\n"
          ]
        }
      ]
    }
  ]
}